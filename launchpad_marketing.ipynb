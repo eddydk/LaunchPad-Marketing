{
 "cells": [
  {
   "cell_type": "code",
   "execution_count": 2,
   "id": "a942d9e0-326f-4ec4-8762-8b022f5d5c19",
   "metadata": {
    "tags": []
   },
   "outputs": [
    {
     "name": "stdout",
     "output_type": "stream",
     "text": [
      "Note: you may need to restart the kernel to use updated packages.\n"
     ]
    }
   ],
   "source": [
    "pip install --upgrade --quiet google-cloud-aiplatform[agent_engines,adk]"
   ]
  },
  {
   "cell_type": "code",
   "execution_count": 223,
   "id": "961f8bb0-f75f-4a46-8ffc-9034e526fd29",
   "metadata": {
    "tags": []
   },
   "outputs": [
    {
     "name": "stdout",
     "output_type": "stream",
     "text": [
      "Note: you may need to restart the kernel to use updated packages.\n"
     ]
    }
   ],
   "source": [
    "pip install -U -q \"google-genai\""
   ]
  },
  {
   "cell_type": "code",
   "execution_count": 83,
   "id": "94373764-e658-45d9-89c9-d63fd79ef313",
   "metadata": {
    "tags": []
   },
   "outputs": [],
   "source": [
    "import vertexai\n",
    "from vertexai import agent_engines\n",
    "vertexai.init(\n",
    "    project=\"content-creation-agent-468223\",  # Your project ID.\n",
    "    location=\"us-central1\",                # Your cloud region.\n",
    "    staging_bucket=\"gs://launchpad_marketing\",  # Your staging bucket.\n",
    ")"
   ]
  },
  {
   "cell_type": "code",
   "execution_count": 268,
   "id": "f73806d5-21a6-4a9b-9522-6e75bb911143",
   "metadata": {
    "tags": []
   },
   "outputs": [],
   "source": [
    "from google import genai\n",
    "from google.genai.types import Content, CreateCachedContentConfig, HttpOptions, Part\n",
    "\n",
    "\n",
    "def generate_blog_post(\n",
    "    product_name: str,\n",
    "    description: str,\n",
    "    features: str,\n",
    "    audience:str\n",
    "):\n",
    "    \n",
    "    \"\"\"\n",
    "    Generates a product launch blog post using Vertex AI.\n",
    "\n",
    "    The output includes a title, intro, body, and conclusion — based on the product brief.\n",
    "    \"\"\"\n",
    "\n",
    "    model='gemini-2.0-flash'\n",
    "    client = genai.Client(http_options=HttpOptions(api_version=\"v1\"))\n",
    "\n",
    "    # Increase the number of word range so that we allow the model to finish its sentence\n",
    "    system_instruction = f'''\n",
    "                            Write a well-structured product announcement blog post that is:\n",
    "                            - At least 500 words long\n",
    "                            - No more than 600 words.\n",
    "                            \n",
    "                            Content must include:\n",
    "                            - A product name,\n",
    "                            - A description,\n",
    "                            - Key features,\n",
    "                            - Target Audience\n",
    "\n",
    "                            Format:\n",
    "                            - Engaging and informative title\n",
    "                            - Brief introduction (1 paragraph)\n",
    "                            - Main body (2–3 paragraphs highlighting benefits/features)\n",
    "                            - Conclusion (summary + call to action)\n",
    "                            '''\n",
    "\n",
    "    user_instruction = f\"\"\"\n",
    "                        Product Name: {product_name}\n",
    "                        Description: {description}\n",
    "                        Key Features: {features}\n",
    "                        Target Audience: {audience}\n",
    "                        \"\"\"\n",
    "\n",
    "    response = client.models.generate_content(\n",
    "        model=model,\n",
    "        contents = user_instruction,\n",
    "        config=types.GenerateContentConfig(\n",
    "            system_instruction=system_instruction,\n",
    "            max_output_tokens=900,\n",
    "            temperature=0.6,\n",
    "            response_logprobs=True,\n",
    "            logprobs=3,\n",
    "          ),\n",
    "        )\n",
    "\n",
    "    return response.text"
   ]
  },
  {
   "cell_type": "code",
   "execution_count": 269,
   "id": "0af20804-4a17-4ac3-bd83-8a5c6a20c9f0",
   "metadata": {
    "tags": []
   },
   "outputs": [
    {
     "name": "stdout",
     "output_type": "stream",
     "text": [
      "## Stop Drowning in Meeting Notes: Introducing SmartNotes, Your AI-Powered Meeting Assistant!\n",
      "\n",
      "Are you tired of spending hours after meetings deciphering your scribbled notes? Do you struggle to remember key decisions and action items? Say goodbye to note-taking fatigue and hello to SmartNotes, the revolutionary AI-powered note-taking app designed to transform the way you approach meetings. SmartNotes leverages the power of artificial intelligence to provide real-time transcription, smart summaries, and automatic action item detection, freeing you to focus on what truly matters: participating and contributing to the conversation.\n",
      "\n",
      "SmartNotes is more than just a recording app; it's your intelligent meeting assistant. Imagine a world where you can fully engage in discussions without the pressure of frantically scribbling notes. With its real-time transcription feature, SmartNotes converts spoken words into text as the meeting unfolds. No more missed points or garbled phrases! But the magic doesn't stop there. SmartNotes goes beyond simple transcription by intelligently summarizing the key points of the meeting. Using advanced AI algorithms, it identifies the core topics, decisions, and takeaways, presenting them in a concise and easily digestible format. This means you can quickly review the essence of the meeting without having to sift through pages of notes. This feature is a game-changer for busy professionals who need to stay informed without sacrificing valuable time.\n",
      "\n",
      "Furthermore, SmartNotes excels at identifying and extracting action items. The app automatically detects phrases that indicate tasks, responsibilities, and deadlines, compiling them into a clear and organized list. This ensures that nothing slips through the cracks and that everyone is accountable for their assigned tasks. Imagine the boost in productivity and efficiency this brings to your team! No more forgotten follow-ups or missed deadlines. SmartNotes keeps everyone on the same page, driving projects forward and fostering a culture of accountability. Remote workers will find SmartNotes particularly useful for staying connected and informed during virtual meetings, while product managers can leverage its features to capture requirements and track progress. Sales teams can also benefit by accurately recording client interactions and identifying key follow-up points.\n",
      "\n",
      "In short, SmartNotes is the ultimate solution for anyone who wants to maximize their meeting productivity. It's time to ditch the traditional pen and paper and embrace the future of note-taking. With its real-time transcription, smart summaries, and action item detection, SmartNotes empowers you to focus on collaboration, innovation, and achieving your goals. Ready to experience the difference? **Sign up for a free trial of SmartNotes today and transform your meetings from tedious tasks into productive powerhouses!**\n",
      "\n",
      "417 words\n"
     ]
    }
   ],
   "source": [
    "blog_post_response = generate_blog_post(\n",
    "    product_name = \"SmartNotes\",\n",
    "    description = \"An AI-powered note-taking app for meetings\",\n",
    "    features = \"Real-time transcription, Smart summaries, Action item detection\",\n",
    "    audience = \"Remote workers, Product managers, and Sales teams\"\n",
    ")\n",
    "\n",
    "print(blog_post_response)\n",
    "print(f\"{len(blog_post_response.split())} words\")"
   ]
  },
  {
   "cell_type": "code",
   "execution_count": 271,
   "id": "54461deb-dcc9-41e7-b0e0-1c1d55539f5c",
   "metadata": {
    "tags": []
   },
   "outputs": [],
   "source": [
    "from google.adk.agents import Agent\n",
    "from vertexai.preview.reasoning_engines import AdkApp\n",
    "from google.genai import types\n",
    "\n",
    "model=\"gemini-2.0-flash\"\n",
    "\n",
    "#Set safety settings:\n",
    "safety_settings = [\n",
    "    types.SafetySetting(\n",
    "        category=types.HarmCategory.HARM_CATEGORY_DANGEROUS_CONTENT,\n",
    "        threshold=types.HarmBlockThreshold.OFF,\n",
    "    ),\n",
    "]\n",
    "\n",
    "generate_content_config = types.GenerateContentConfig(\n",
    "   safety_settings=safety_settings,\n",
    "   temperature=0.6,\n",
    "   max_output_tokens= 1000,\n",
    "   top_p= 0.95,\n",
    ")\n",
    "\n",
    "#Define Agent\n",
    "agent = Agent(\n",
    "    model=model,\n",
    "    name=\"Blog_Post_Agent\",\n",
    "    description=(\"Agent that writes a 400-500 word announcement blog post\"),\n",
    "    generate_content_config=generate_content_config,\n",
    "    tools=[generate_blog_post],\n",
    ")\n",
    "\n",
    "#Create Agent using ADK\n",
    "app = AdkApp(agent=agent)"
   ]
  },
  {
   "cell_type": "code",
   "execution_count": 272,
   "id": "f6c4551f-6213-4631-b25d-a2f507e63a51",
   "metadata": {
    "tags": []
   },
   "outputs": [
    {
     "name": "stderr",
     "output_type": "stream",
     "text": [
      "Warning: there are non-text parts in the response: ['function_call'], returning concatenated text result from text parts. Check the full candidates.content.parts accessor to get the full model response.\n"
     ]
    },
    {
     "name": "stdout",
     "output_type": "stream",
     "text": [
      "{'content': {'parts': [{'text': \"Okay, I can help you write a blog post announcing VisionLink Pro. I'll use the information you provided to generate a draft.\\n\"}, {'function_call': {'id': 'adk-badb109a-7e25-49c6-bcfc-d79b447d816b', 'args': {'product_name': 'VisionLink Pro', 'audience': 'remote teams, global companies, and project managers', 'features': 'support for 25+ languages, Slack + Google Calendar integration, and high-definition audio and video', 'description': 'It’s an AI-powered video conferencing platform that improves communication with real-time translation, automatic meeting summaries, and calendar integration.'}, 'name': 'generate_blog_post'}}], 'role': 'model'}, 'usage_metadata': {'candidates_token_count': 100, 'candidates_tokens_details': [{'modality': 'TEXT', 'token_count': 100}], 'prompt_token_count': 186, 'prompt_tokens_details': [{'modality': 'TEXT', 'token_count': 186}], 'total_token_count': 286, 'traffic_type': 'ON_DEMAND'}, 'invocation_id': 'e-a91e1ed3-af58-4155-8691-6b2e4f5b6561', 'author': 'Blog_Post_Agent', 'actions': {'state_delta': {}, 'artifact_delta': {}, 'requested_auth_configs': {}}, 'long_running_tool_ids': [], 'id': '3a8c14ab-4a1c-4766-b9b4-9e6ec136026b', 'timestamp': 1754620427.320018}\n",
      "{'content': {'parts': [{'function_response': {'id': 'adk-badb109a-7e25-49c6-bcfc-d79b447d816b', 'name': 'generate_blog_post', 'response': {'result': \"## Connect Globally, Collaborate Seamlessly: Introducing VisionLink Pro!\\n\\nIn today's interconnected world, effective communication is the cornerstone of success. Whether you're managing a remote team, collaborating with international partners, or simply striving for clearer internal communication, the right tools can make all the difference. That's why we're thrilled to announce the launch of **VisionLink Pro**, the AI-powered video conferencing platform designed to break down barriers and foster seamless collaboration, no matter where you are.\\n\\nVisionLink Pro isn’t just another video conferencing tool; it's a comprehensive communication hub built to enhance productivity and understanding. Imagine effortlessly connecting with colleagues who speak different languages, receiving instant summaries of crucial meetings, and managing your schedule all within a single, intuitive platform. With VisionLink Pro, this vision becomes a reality. Our platform boasts real-time translation capabilities, supporting over 25 languages, ensuring everyone can participate fully in discussions. No more awkward pauses or reliance on interpreters – VisionLink Pro empowers your team to communicate naturally and effectively. Furthermore, the automatic meeting summary feature uses AI to capture key decisions, action items, and important points, saving you valuable time and ensuring everyone stays informed, even if they couldn't attend the live meeting.\\n\\nVisionLink Pro is packed with features specifically designed to streamline workflows and boost collaboration for remote teams, global companies, and project managers. Beyond real-time translation and automatic summaries, we've integrated seamlessly with popular tools like Slack and Google Calendar. This integration eliminates the hassle of switching between applications, allowing you to schedule meetings, share updates, and stay organized all within the VisionLink Pro environment. Experience crystal-clear communication with high-definition audio and video, ensuring every interaction feels personal and engaging. No more struggling to hear or see participants – VisionLink Pro delivers a professional and immersive conferencing experience.\\n\\nVisionLink Pro is more than just a platform; it's an investment in clearer communication, stronger collaboration, and increased productivity. By removing language barriers, automating tedious tasks, and providing a unified communication hub, VisionLink Pro empowers your team to focus on what matters most: achieving your goals. Ready to experience the future of video conferencing? Visit our website today to start your free trial and discover how VisionLink Pro can transform the way you connect and collaborate! Don't just meet, connect with VisionLink Pro.\\n\"}}}], 'role': 'user'}, 'invocation_id': 'e-a91e1ed3-af58-4155-8691-6b2e4f5b6561', 'author': 'Blog_Post_Agent', 'actions': {'state_delta': {}, 'artifact_delta': {}, 'requested_auth_configs': {}}, 'id': 'c16b3db1-81d2-4cf0-9c6b-f37a564fe360', 'timestamp': 1754620432.679766}\n",
      "{'content': {'parts': [{'text': \"Here's a draft of the blog post:\\n\\n## Connect Globally, Collaborate Seamlessly: Introducing VisionLink Pro!\\n\\nIn today's interconnected world, effective communication is the cornerstone of success. Whether you're managing a remote team, collaborating with international partners, or simply striving for clearer internal communication, the right tools can make all the difference. That's why we're thrilled to announce the launch of **VisionLink Pro**, the AI-powered video conferencing platform designed to break down barriers and foster seamless collaboration, no matter where you are.\\n\\nVisionLink Pro isn’t just another video conferencing tool; it's a comprehensive communication hub built to enhance productivity and understanding. Imagine effortlessly connecting with colleagues who speak different languages, receiving instant summaries of crucial meetings, and managing your schedule all within a single, intuitive platform. With VisionLink Pro, this vision becomes a reality. Our platform boasts real-time translation capabilities, supporting over 25 languages, ensuring everyone can participate fully in discussions. No more awkward pauses or reliance on interpreters – VisionLink Pro empowers your team to communicate naturally and effectively. Furthermore, the automatic meeting summary feature uses AI to capture key decisions, action items, and important points, saving you valuable time and ensuring everyone stays informed, even if they couldn't attend the live meeting.\\n\\nVisionLink Pro is packed with features specifically designed to streamline workflows and boost collaboration for remote teams, global companies, and project managers. Beyond real-time translation and automatic summaries, we've integrated seamlessly with popular tools like Slack and Google Calendar. This integration eliminates the hassle of switching between applications, allowing you to schedule meetings, share updates, and stay organized all within the VisionLink Pro environment. Experience crystal-clear communication with high-definition audio and video, ensuring every interaction feels personal and engaging. No more struggling to hear or see participants – VisionLink Pro delivers a professional and immersive conferencing experience.\\n\\nVisionLink Pro is more than just a platform; it's an investment in clearer communication, stronger collaboration, and increased productivity. By removing language barriers, automating tedious tasks, and providing a unified communication hub, VisionLink Pro empowers your team to focus on what matters most: achieving your goals. Ready to experience the future of video conferencing? Visit our website today to start your free trial and discover how VisionLink Pro can transform the way you connect and collaborate! Don't just meet, connect with VisionLink Pro.\\n\"}], 'role': 'model'}, 'usage_metadata': {'candidates_token_count': 494, 'candidates_tokens_details': [{'modality': 'TEXT', 'token_count': 494}], 'prompt_token_count': 775, 'prompt_tokens_details': [{'modality': 'TEXT', 'token_count': 775}], 'total_token_count': 1269, 'traffic_type': 'ON_DEMAND'}, 'invocation_id': 'e-a91e1ed3-af58-4155-8691-6b2e4f5b6561', 'author': 'Blog_Post_Agent', 'actions': {'state_delta': {}, 'artifact_delta': {}, 'requested_auth_configs': {}}, 'id': '77094082-159f-4e1b-b8dc-9d1825604f7e', 'timestamp': 1754620432.684347}\n"
     ]
    }
   ],
   "source": [
    "#Test Agent\n",
    "for event in app.stream_query(\n",
    "    user_id=\"user_123\",\n",
    "    message=\"\"\"I want to announce a new product called VisionLink Pro.\n",
    "                It’s an AI-powered video conferencing platform that improves communication with real-time translation, automatic meeting summaries, and calendar integration.\n",
    "                The main features include support for 25+ languages, Slack + Google Calendar integration, and high-definition audio and video.\n",
    "                The target audience is remote teams, global companies, and project managers.\n",
    "                \"\"\",):\n",
    "    print(event)"
   ]
  },
  {
   "cell_type": "code",
   "execution_count": 273,
   "id": "eb918d53-65f3-4383-bdc1-f7bd098ccefb",
   "metadata": {
    "tags": []
   },
   "outputs": [],
   "source": [
    "def session_service_builder():\n",
    "  from google.adk.sessions import InMemorySessionService\n",
    "\n",
    "  return InMemorySessionService()"
   ]
  },
  {
   "cell_type": "code",
   "execution_count": 274,
   "id": "df359fe3-4c88-487c-9a3c-2010c0bf0871",
   "metadata": {
    "tags": []
   },
   "outputs": [],
   "source": [
    "from vertexai.preview.reasoning_engines import AdkApp\n",
    "\n",
    "app = AdkApp(\n",
    "   agent=agent,                                      # Required.\n",
    "   session_service_builder=session_service_builder,  # Optional.\n",
    ")"
   ]
  },
  {
   "cell_type": "code",
   "execution_count": 275,
   "id": "3ff5e975-5e09-4e97-80ab-e8aad1c99ecc",
   "metadata": {
    "tags": []
   },
   "outputs": [],
   "source": [
    "session = app.create_session(user_id=\"user_123\")"
   ]
  },
  {
   "cell_type": "code",
   "execution_count": 276,
   "id": "7cf114c5-cb19-4729-989a-c367bccb41a8",
   "metadata": {
    "tags": []
   },
   "outputs": [
    {
     "data": {
      "text/plain": [
       "ListSessionsResponse(sessions=[Session(id='aa547b52-801b-4b8a-b843-9315dbf2fb15', app_name='default-app-name', user_id='user_123', state={}, events=[], last_update_time=1754620685.1987162)])"
      ]
     },
     "execution_count": 276,
     "metadata": {},
     "output_type": "execute_result"
    }
   ],
   "source": [
    "app.list_sessions(user_id=\"user_123\")"
   ]
  },
  {
   "cell_type": "code",
   "execution_count": 277,
   "id": "d3f7833e-f54d-4334-948f-006adfc079fe",
   "metadata": {
    "tags": []
   },
   "outputs": [
    {
     "name": "stdout",
     "output_type": "stream",
     "text": [
      "{'content': {'parts': [{'text': \"Okay, I need some more information to write a good blog post.  Tell me:\\n\\n*   Who is the target audience for Eddy?\\n*   What does Eddy do? (A brief description)\\n*   What are Eddy's key features?\"}], 'role': 'model'}, 'usage_metadata': {'candidates_token_count': 53, 'candidates_tokens_details': [{'modality': 'TEXT', 'token_count': 53}], 'prompt_token_count': 109, 'prompt_tokens_details': [{'modality': 'TEXT', 'token_count': 109}], 'total_token_count': 162, 'traffic_type': 'ON_DEMAND'}, 'invocation_id': 'e-b8790c83-11f4-43a7-bf9a-da394d1eedea', 'author': 'Blog_Post_Agent', 'actions': {'state_delta': {}, 'artifact_delta': {}, 'requested_auth_configs': {}}, 'id': '1f234fa4-045d-4b31-ad9d-1bee9912c852', 'timestamp': 1754620883.328787}\n"
     ]
    }
   ],
   "source": [
    "for event in app.stream_query(\n",
    "    user_id=\"user_123\",\n",
    "    session_id=\"aa547b52-801b-4b8a-b843-9315dbf2fb15\", # Optional. you can pass in the session_id when querying the agent\n",
    "    message=\"Create me a blog post about a product called Eddy\",\n",
    "):\n",
    "    print(event)"
   ]
  },
  {
   "cell_type": "code",
   "execution_count": 278,
   "id": "2562f5d5-9406-45af-99fa-59466a475420",
   "metadata": {
    "tags": []
   },
   "outputs": [
    {
     "name": "stderr",
     "output_type": "stream",
     "text": [
      "Warning: there are non-text parts in the response: ['function_call'], returning concatenated text result from text parts. Check the full candidates.content.parts accessor to get the full model response.\n"
     ]
    },
    {
     "name": "stdout",
     "output_type": "stream",
     "text": [
      "{'content': {'parts': [{'text': 'OK, I have all the information I need. I will generate a blog post about Eddy.\\n'}, {'function_call': {'id': 'adk-5cee620d-a7a0-4628-98b6-8667755eb338', 'args': {'audience': 'Remote teams, global companies, and project managers', 'description': 'AI-powered video conferencing platform that improves communication with real-time translation, automatic meeting summaries, and calendar integration', 'features': 'Support for 25+ languages, Slack + Google Calendar integration, and high-definition audio and video', 'product_name': 'Eddy'}, 'name': 'generate_blog_post'}}], 'role': 'model'}, 'usage_metadata': {'candidates_token_count': 84, 'candidates_tokens_details': [{'modality': 'TEXT', 'token_count': 84}], 'prompt_token_count': 235, 'prompt_tokens_details': [{'modality': 'TEXT', 'token_count': 235}], 'total_token_count': 319, 'traffic_type': 'ON_DEMAND'}, 'invocation_id': 'e-59e713f0-ecea-4409-a696-0f14009509c3', 'author': 'Blog_Post_Agent', 'actions': {'state_delta': {}, 'artifact_delta': {}, 'requested_auth_configs': {}}, 'long_running_tool_ids': [], 'id': '3769a1c3-f896-449f-ad47-e51ba1d033b2', 'timestamp': 1754620967.074695}\n",
      "{'content': {'parts': [{'function_response': {'id': 'adk-5cee620d-a7a0-4628-98b6-8667755eb338', 'name': 'generate_blog_post', 'response': {'result': \"## Say Goodbye to Communication Barriers: Introducing Eddy, the AI-Powered Video Conferencing Platform\\n\\nIn today's interconnected world, seamless communication is more critical than ever. Whether you're managing a remote team, collaborating with international partners, or simply trying to stay organized, effective communication can make or break your success. That's why we're thrilled to announce the launch of **Eddy**, the AI-powered video conferencing platform designed to break down communication barriers and supercharge your productivity.\\n\\nEddy is not just another video conferencing tool; it's a complete communication solution built for the modern workplace. We understand the challenges faced by remote teams, global companies, and project managers who need to connect and collaborate effectively across different languages and time zones. That's why we've packed Eddy with powerful AI features that will transform the way you communicate. Imagine effortlessly understanding your colleagues, no matter where they are in the world, with real-time translation in over 25 languages. No more awkward silences or misinterpretations. Eddy's real-time translation feature ensures everyone is on the same page, fostering a more inclusive and productive environment. Beyond translation, Eddy automatically generates meeting summaries, saving you valuable time and effort. Forget about taking meticulous notes or struggling to remember key decisions; Eddy does it all for you, allowing you to focus on the conversation and take decisive action.\\n\\nEddy is also designed to seamlessly integrate into your existing workflow. Our Slack and Google Calendar integrations ensure you're always connected and organized. Schedule meetings directly from your calendar, receive reminders, and easily share meeting summaries with your team. With high-definition audio and video, Eddy provides a crystal-clear communication experience, making you feel like you're in the same room with your colleagues, even when you're miles apart. This clarity enhances collaboration, reduces misunderstandings, and fosters stronger relationships within your team. We believe that technology should empower you, not hinder you. That's why we've designed Eddy to be intuitive and user-friendly, so you can focus on what matters most: connecting with your team and achieving your goals.\\n\\nIn short, Eddy is the all-in-one video conferencing platform that empowers remote teams, global companies, and project managers to communicate effectively, collaborate seamlessly, and achieve more. With its real-time translation, automatic meeting summaries, and seamless integrations, Eddy is the key to unlocking your team's full potential. Ready to experience the future of communication? Visit our website today to sign up for a free trial and discover how Eddy can transform the way you connect and collaborate. Don't let language barriers or disorganized meetings hold you back any longer. Embrace the power of AI and unlock a new era of productivity with Eddy!\\n\"}}}], 'role': 'user'}, 'invocation_id': 'e-59e713f0-ecea-4409-a696-0f14009509c3', 'author': 'Blog_Post_Agent', 'actions': {'state_delta': {}, 'artifact_delta': {}, 'requested_auth_configs': {}}, 'id': 'f362ef5e-9433-4440-9df8-a88e08c63310', 'timestamp': 1754620972.523741}\n",
      "{'content': {'parts': [{'text': \"Here is the blog post I generated for you:\\n\\n## Say Goodbye to Communication Barriers: Introducing Eddy, the AI-Powered Video Conferencing Platform\\n\\nIn today's interconnected world, seamless communication is more critical than ever. Whether you're managing a remote team, collaborating with international partners, or simply trying to stay organized, effective communication can make or break your success. That's why we're thrilled to announce the launch of **Eddy**, the AI-powered video conferencing platform designed to break down communication barriers and supercharge your productivity.\\n\\nEddy is not just another video conferencing tool; it's a complete communication solution built for the modern workplace. We understand the challenges faced by remote teams, global companies, and project managers who need to connect and collaborate effectively across different languages and time zones. That's why we've packed Eddy with powerful AI features that will transform the way you communicate. Imagine effortlessly understanding your colleagues, no matter where they are in the world, with real-time translation in over 25 languages. No more awkward silences or misinterpretations. Eddy's real-time translation feature ensures everyone is on the same page, fostering a more inclusive and productive environment. Beyond translation, Eddy automatically generates meeting summaries, saving you valuable time and effort. Forget about taking meticulous notes or struggling to remember key decisions; Eddy does it all for you, allowing you to focus on the conversation and take decisive action.\\n\\nEddy is also designed to seamlessly integrate into your existing workflow. Our Slack and Google Calendar integrations ensure you're always connected and organized. Schedule meetings directly from your calendar, receive reminders, and easily share meeting summaries with your team. With high-definition audio and video, Eddy provides a crystal-clear communication experience, making you feel like you're in the same room with your colleagues, even when you're miles apart. This clarity enhances collaboration, reduces misunderstandings, and fosters stronger relationships within your team. We believe that technology should empower you, not hinder you. That's why we've designed Eddy to be intuitive and user-friendly, so you can focus on what matters most: connecting with your team and achieving your goals.\\n\\nIn short, Eddy is the all-in-one video conferencing platform that empowers remote teams, global companies, and project managers to communicate effectively, collaborate seamlessly, and achieve more. With its real-time translation, automatic meeting summaries, and seamless integrations, Eddy is the key to unlocking your team's full potential. Ready to experience the future of communication? Visit our website today to sign up for a free trial and discover how Eddy can transform the way you connect and collaborate. Don't let language barriers or disorganized meetings hold you back any longer. Embrace the power of AI and unlock a new era of productivity with Eddy!\\n\"}], 'role': 'model'}, 'usage_metadata': {'candidates_token_count': 570, 'candidates_tokens_details': [{'modality': 'TEXT', 'token_count': 570}], 'prompt_token_count': 884, 'prompt_tokens_details': [{'modality': 'TEXT', 'token_count': 884}], 'total_token_count': 1454, 'traffic_type': 'ON_DEMAND'}, 'invocation_id': 'e-59e713f0-ecea-4409-a696-0f14009509c3', 'author': 'Blog_Post_Agent', 'actions': {'state_delta': {}, 'artifact_delta': {}, 'requested_auth_configs': {}}, 'id': '72e26567-46ef-43db-b584-b4ced924000f', 'timestamp': 1754620972.528951}\n"
     ]
    }
   ],
   "source": [
    "#Test Agent\n",
    "for event in app.stream_query(\n",
    "    user_id=\"user_123\",\n",
    "    session_id=\"aa547b52-801b-4b8a-b843-9315dbf2fb15\",\n",
    "    message=\"\"\" It’s an AI-powered video conferencing platform that improves communication with real-time translation, automatic meeting summaries, and calendar integration.\n",
    "                The main features include support for 25+ languages, Slack + Google Calendar integration, and high-definition audio and video.\n",
    "                The target audience is remote teams, global companies, and project managers.\n",
    "                \"\"\",):\n",
    "    print(event)"
   ]
  },
  {
   "cell_type": "code",
   "execution_count": 285,
   "id": "4a82167a-bca2-42b5-ac6a-66254b0d1f7f",
   "metadata": {},
   "outputs": [
    {
     "name": "stdout",
     "output_type": "stream",
     "text": [
      "Identified the following requirements: {'pydantic': '2.11.7', 'cloudpickle': '3.1.1', 'google-cloud-aiplatform': '1.107.0'}\n",
      "The final list of requirements: ['google-cloud-aiplatform[agent_engines,adk]', 'cloudpickle==3.1.1', 'pydantic==2.11.7']\n",
      "Using bucket launchpad_marketing\n",
      "Wrote to gs://launchpad_marketing/agent_engine/agent_engine.pkl\n",
      "Writing to gs://launchpad_marketing/agent_engine/requirements.txt\n",
      "Creating in-memory tarfile of extra_packages\n",
      "Writing to gs://launchpad_marketing/agent_engine/dependencies.tar.gz\n",
      "Creating AgentEngine\n",
      "Create AgentEngine backing LRO: projects/1014433624001/locations/us-central1/reasoningEngines/1641201424362635264/operations/6567433495881187328\n",
      "View progress and logs at https://console.cloud.google.com/logs/query?project=content-creation-agent-468223\n",
      "AgentEngine created. Resource name: projects/1014433624001/locations/us-central1/reasoningEngines/1641201424362635264\n",
      "To use this AgentEngine in another session:\n",
      "agent_engine = vertexai.agent_engines.get('projects/1014433624001/locations/us-central1/reasoningEngines/1641201424362635264')\n"
     ]
    }
   ],
   "source": [
    "from vertexai import agent_engines\n",
    "\n",
    "remote_agent = agent_engines.create(\n",
    "    app,\n",
    "    requirements=[\"google-cloud-aiplatform[agent_engines,adk]\",\"cloudpickle==3.1.1\",\"pydantic==2.11.7\"],\n",
    ")"
   ]
  },
  {
   "cell_type": "code",
   "execution_count": 288,
   "id": "01274306-f124-4719-8bf2-42388706bbb8",
   "metadata": {
    "tags": []
   },
   "outputs": [],
   "source": [
    "from vertexai.preview.reasoning_engines import AdkApp\n",
    "\n",
    "remote_agent = AdkApp(\n",
    "   agent=remote_agent,                               # Required.\n",
    "   session_service_builder=session_service_builder,  # Optional.\n",
    ")"
   ]
  },
  {
   "cell_type": "code",
   "execution_count": 289,
   "id": "f0a43d5a-3715-4417-b231-b2d49ca0a1d0",
   "metadata": {
    "tags": []
   },
   "outputs": [],
   "source": [
    "session = remote_agent.create_session(user_id=\"user_123\")"
   ]
  },
  {
   "cell_type": "code",
   "execution_count": 293,
   "id": "db4ada9f-f1b1-4714-8a1e-914a0a2bbb16",
   "metadata": {
    "tags": []
   },
   "outputs": [
    {
     "data": {
      "text/plain": [
       "ListSessionsResponse(sessions=[Session(id='d239c214-778b-41ae-b7d9-95ae0a3907eb', app_name='default-app-name', user_id='user_123', state={}, events=[], last_update_time=1754622157.1974843)])"
      ]
     },
     "execution_count": 293,
     "metadata": {},
     "output_type": "execute_result"
    }
   ],
   "source": [
    "remote_agent.list_sessions(user_id=\"user_123\")"
   ]
  },
  {
   "cell_type": "code",
   "execution_count": 295,
   "id": "ac398de6-69f0-4831-b54d-a50dbcd4f069",
   "metadata": {
    "tags": []
   },
   "outputs": [
    {
     "name": "stderr",
     "output_type": "stream",
     "text": [
      "Exception in thread Thread-604 (_asyncio_thread_main):\n",
      "Traceback (most recent call last):\n",
      "  File \"/opt/conda/lib/python3.10/threading.py\", line 1016, in _bootstrap_inner\n",
      "    self.run()\n",
      "  File \"/opt/conda/lib/python3.10/site-packages/ipykernel/ipkernel.py\", line 766, in run_closure\n",
      "    _threading_Thread_run(self)\n",
      "  File \"/opt/conda/lib/python3.10/threading.py\", line 953, in run\n",
      "    self._target(*self._args, **self._kwargs)\n",
      "  File \"/opt/conda/lib/python3.10/site-packages/google/adk/runners.py\", line 158, in _asyncio_thread_main\n",
      "    asyncio.run(_invoke_run_async())\n",
      "  File \"/opt/conda/lib/python3.10/asyncio/runners.py\", line 44, in run\n",
      "    return loop.run_until_complete(main)\n",
      "  File \"uvloop/loop.pyx\", line 1518, in uvloop.loop.Loop.run_until_complete\n",
      "  File \"/opt/conda/lib/python3.10/site-packages/google/adk/runners.py\", line 146, in _invoke_run_async\n",
      "    async for event in self.run_async(\n",
      "  File \"/opt/conda/lib/python3.10/site-packages/google/adk/runners.py\", line 202, in run_async\n",
      "    invocation_context = self._new_invocation_context(\n",
      "  File \"/opt/conda/lib/python3.10/site-packages/google/adk/runners.py\", line 545, in _new_invocation_context\n",
      "    return InvocationContext(\n",
      "  File \"/opt/conda/lib/python3.10/site-packages/pydantic/main.py\", line 253, in __init__\n",
      "    validated_self = self.__pydantic_validator__.validate_python(data, self_instance=self)\n",
      "pydantic_core._pydantic_core.ValidationError: 1 validation error for InvocationContext\n",
      "agent\n",
      "  Input should be a valid dictionary or instance of BaseAgent [type=model_type, input_value=<vertexai.agent_engines._...ines/1641201424362635264, input_type=AgentEngine]\n",
      "    For further information visit https://errors.pydantic.dev/2.11/v/model_type\n"
     ]
    }
   ],
   "source": [
    "for event in remote_agent.stream_query(\n",
    "    user_id=\"user_123\",\n",
    "    message=\"\"\"I want to announce a new product called Eddy Link Pro.\n",
    "                It’s an AI-powered video conferencing platform that improves communication with real-time translation, automatic meeting summaries, and calendar integration.\n",
    "                The main features include support for 25+ languages, Slack + Google Calendar integration, and high-definition audio and video.\n",
    "                The target audience is remote teams, global companies, and project managers.\n",
    "                Can you generate a product launch blog post I can use on our website?\"\"\"\n",
    "   ):\n",
    "    print(event)"
   ]
  },
  {
   "cell_type": "code",
   "execution_count": 221,
   "id": "e6258d5c-ea0a-448d-acb5-00184eff535a",
   "metadata": {
    "tags": []
   },
   "outputs": [
    {
     "name": "stdout",
     "output_type": "stream",
     "text": [
      "Note: you may need to restart the kernel to use updated packages.\n"
     ]
    }
   ],
   "source": [
    "pip install --quiet gradio"
   ]
  },
  {
   "cell_type": "code",
   "execution_count": 321,
   "id": "56320d7f-82d2-40f6-b94c-7b73abb94bdb",
   "metadata": {
    "tags": []
   },
   "outputs": [],
   "source": [
    "import requests\n",
    "import gradio as gr\n",
    "from google.auth.transport.requests import Request\n",
    "import google.auth\n",
    "import json\n",
    "\n",
    "# Replace this with your Vertex AI agent stream URL\n",
    "AGENT_STREAM_URL = \"https://us-central1-aiplatform.googleapis.com/v1/projects/content-creation-agent-468223/locations/us-central1/reasoningEngines/1641201424362635264:streamQuery?alt=sse\"\n",
    "\n",
    "def query_agent(user_input):\n",
    "    # Get default credentials\n",
    "    credentials, _ = google.auth.default()\n",
    "    \n",
    "    # Refresh if token is expired or missing\n",
    "    if not credentials.valid or credentials.expired:\n",
    "        credentials.refresh(Request())\n",
    "\n",
    "    # Get access token\n",
    "    auth_token = credentials.token\n",
    "\n",
    "    headers = {\n",
    "        \"Authorization\": f\"Bearer {auth_token}\",\n",
    "        \"Content-Type\": \"application/json\"\n",
    "    }\n",
    "\n",
    "    body = {\n",
    "      \"class_method\":\"stream_query\",\n",
    "        \"input\":{\n",
    "            \"user_id\":\"user_123\",\n",
    "            \"message\": user_input\n",
    "        }\n",
    "    }\n",
    "\n",
    "    # Send POST request to stream endpoint\n",
    "    response = requests.post(AGENT_STREAM_URL, headers=headers, json=body, stream=True)\n",
    "    \n",
    "    result_text = \"\"\n",
    "    \n",
    "    if(response.status_code == 200):\n",
    "\n",
    "        #response.iter_lines():\n",
    "        for line in response.iter_lines():\n",
    "            if line:\n",
    "                try:\n",
    "                    decoded = line.decode(\"utf-8\").replace(\"data: \", \"\")\n",
    "                    chunk = json.loads(decoded)\n",
    "\n",
    "                    # Correct: Accessing 'content' directly\n",
    "                    content = chunk.get(\"content\", {})\n",
    "                    parts = content.get(\"parts\", [])\n",
    "                    for part in parts:\n",
    "                        result_text += part.get(\"text\", \"\")\n",
    "\n",
    "                except Exception as e:\n",
    "                    print(\"[!] Error parsing line:\", e)\n",
    "                    continue\n",
    "    else:\n",
    "        result_text = response.text\n",
    "        \n",
    "    return result_text\n"
   ]
  },
  {
   "cell_type": "code",
   "execution_count": 323,
   "id": "b4467c39-d831-4cd5-9bb3-3ade325918e0",
   "metadata": {
    "tags": []
   },
   "outputs": [
    {
     "name": "stdout",
     "output_type": "stream",
     "text": [
      "* Running on local URL:  http://127.0.0.1:7884\n",
      "* Running on public URL: https://b29ff66be54e1cb0c7.gradio.live\n",
      "\n",
      "This share link expires in 1 week. For free permanent hosting and GPU upgrades, run `gradio deploy` from the terminal in the working directory to deploy to Hugging Face Spaces (https://huggingface.co/spaces)\n"
     ]
    },
    {
     "data": {
      "text/html": [
       "<div><iframe src=\"https://b29ff66be54e1cb0c7.gradio.live\" width=\"100%\" height=\"500\" allow=\"autoplay; camera; microphone; clipboard-read; clipboard-write;\" frameborder=\"0\" allowfullscreen></iframe></div>"
      ],
      "text/plain": [
       "<IPython.core.display.HTML object>"
      ]
     },
     "metadata": {},
     "output_type": "display_data"
    },
    {
     "data": {
      "text/plain": []
     },
     "execution_count": 323,
     "metadata": {},
     "output_type": "execute_result"
    }
   ],
   "source": [
    "sample_prompt=\"\"\"I want to announce a new product called VisionLink Pro.\n",
    "It’s an AI-powered video conferencing platform that improves communication with real-time translation, automatic meeting summaries, and calendar integration. \n",
    "The main features include support for 25+ languages, Slack + Google Calendar integration, and high-definition audio and video. \n",
    "The target audience is remote teams, global companies, and project managers.\n",
    "\n",
    "OR\n",
    "\n",
    "We’re launching a new smart home device called EcoGlow.\n",
    "It’s a voice-controlled LED light that adjusts based on mood, time of day, and room activity.\n",
    "It works with Google Assistant and Alexa, and is designed for energy efficiency.\n",
    "The target audience is eco-conscious homeowners and tech-savvy renters.\n",
    "\"\"\"\n",
    "\n",
    "def query_agent_with_word_count(user_input):\n",
    "    result = query_agent(user_input)\n",
    "    word_count = len(result.split())\n",
    "    return result, f\"Words: {word_count}\"\n",
    "\n",
    "with gr.Blocks() as demo:\n",
    "    gr.Markdown(\"### Ask Eddy's Blog Post Agent\")\n",
    "    with gr.Row():\n",
    "        user_input = gr.Textbox(placeholder=\"Enter your question here...\", lines=2, label=\"Your Prompt\")\n",
    "        submit_btn = gr.Button(\"Send\")\n",
    "    with gr.Column():\n",
    "        output = gr.Textbox(lines=15, label=\"Agent Response\")\n",
    "        word_counter = gr.Textbox(label=\"Word Count\", interactive=False, show_label=False, max_lines=1)\n",
    "    with gr.Column():\n",
    "        gr.Markdown(\"#### 🧪 Try This Sample Prompt\")\n",
    "        sample = gr.Textbox( value=sample_prompt, label=\"Example Prompt\", lines=7, interactive=True)\n",
    "    \n",
    "    submit_btn.click(fn=query_agent_with_word_count, inputs=user_input, outputs=[output, word_counter])\n",
    "\n",
    "demo.launch(share=True)"
   ]
  },
  {
   "cell_type": "code",
   "execution_count": 324,
   "id": "abfd281a-dad8-45d3-985c-b70118c30bb2",
   "metadata": {
    "tags": []
   },
   "outputs": [
    {
     "name": "stdout",
     "output_type": "stream",
     "text": [
      "Closing server running on port: 7884\n"
     ]
    }
   ],
   "source": [
    "demo.close()"
   ]
  },
  {
   "cell_type": "code",
   "execution_count": 326,
   "id": "5037373d-9327-49d5-b86c-761c3c542bf6",
   "metadata": {
    "tags": []
   },
   "outputs": [
    {
     "ename": "AttributeError",
     "evalue": "'AdkApp' object has no attribute 'delete'",
     "output_type": "error",
     "traceback": [
      "\u001b[0;31m---------------------------------------------------------------------------\u001b[0m",
      "\u001b[0;31mAttributeError\u001b[0m                            Traceback (most recent call last)",
      "Cell \u001b[0;32mIn[326], line 1\u001b[0m\n\u001b[0;32m----> 1\u001b[0m \u001b[43mremote_agent\u001b[49m\u001b[38;5;241;43m.\u001b[39;49m\u001b[43mdelete\u001b[49m(force\u001b[38;5;241m=\u001b[39m\u001b[38;5;28;01mTrue\u001b[39;00m)\n",
      "\u001b[0;31mAttributeError\u001b[0m: 'AdkApp' object has no attribute 'delete'"
     ]
    }
   ],
   "source": [
    "remote_agent.delete(force=True)"
   ]
  },
  {
   "cell_type": "code",
   "execution_count": null,
   "id": "7a5ad6fc-86e9-4299-afcd-3f2fcea1ed0f",
   "metadata": {},
   "outputs": [],
   "source": []
  }
 ],
 "metadata": {
  "environment": {
   "kernel": "conda-base-py",
   "name": "workbench-notebooks.m131",
   "type": "gcloud",
   "uri": "us-docker.pkg.dev/deeplearning-platform-release/gcr.io/workbench-notebooks:m131"
  },
  "kernelspec": {
   "display_name": "Python 3 (ipykernel) (Local)",
   "language": "python",
   "name": "conda-base-py"
  },
  "language_info": {
   "codemirror_mode": {
    "name": "ipython",
    "version": 3
   },
   "file_extension": ".py",
   "mimetype": "text/x-python",
   "name": "python",
   "nbconvert_exporter": "python",
   "pygments_lexer": "ipython3",
   "version": "3.10.18"
  }
 },
 "nbformat": 4,
 "nbformat_minor": 5
}
